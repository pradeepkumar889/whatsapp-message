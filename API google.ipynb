{
 "cells": [
  {
   "cell_type": "code",
   "execution_count": null,
   "id": "3349235e-11c3-406f-9136-2d0c7fa4a4f3",
   "metadata": {},
   "outputs": [
    {
     "name": "stdout",
     "output_type": "stream",
     "text": [
      " * Serving Flask app '__main__'\n",
      " * Debug mode: off\n"
     ]
    },
    {
     "name": "stderr",
     "output_type": "stream",
     "text": [
      "WARNING: This is a development server. Do not use it in a production deployment. Use a production WSGI server instead.\n",
      " * Running on all addresses (0.0.0.0)\n",
      " * Running on http://127.0.0.1:80\n",
      " * Running on http://192.168.128.1:80\n",
      "Press CTRL+C to quit\n"
     ]
    }
   ],
   "source": [
    "from googlesearch import search\n",
    "from flask import Flask\n",
    "app = Flask(__name__)\n",
    "@app.route(\"/google_search\")\n",
    "def google_search():\n",
    "    try:\n",
    "        query = 'rohit sharma'\n",
    "        num_results = 5\n",
    "        \n",
    "        search_results = search(query, num_results=num_results)\n",
    "        for i, result in enumerate(search_results, start=1):\n",
    "            return(f\"{i}. {result}\")\n",
    "    except Exception as e:\n",
    "        print(f\"Error: {e}\")\n",
    "app.run(port=80,host=\"0.0.0.0\")"
   ]
  },
  {
   "cell_type": "code",
   "execution_count": null,
   "id": "79f716ae-89f9-4dac-98c2-9b6c5429ce07",
   "metadata": {},
   "outputs": [
    {
     "name": "stdout",
     "output_type": "stream",
     "text": [
      " * Serving Flask app '__main__'\n",
      " * Debug mode: off\n"
     ]
    },
    {
     "name": "stderr",
     "output_type": "stream",
     "text": [
      "WARNING: This is a development server. Do not use it in a production deployment. Use a production WSGI server instead.\n",
      " * Running on all addresses (0.0.0.0)\n",
      " * Running on http://127.0.0.1:80\n",
      " * Running on http://192.168.128.1:80\n",
      "Press CTRL+C to quit\n"
     ]
    }
   ],
   "source": [
    "from googlesearch import search\n",
    "from flask import Flask, jsonify\n",
    "\n",
    "app = Flask(__name__)\n",
    "\n",
    "@app.route(\"/google_search/<query>\")\n",
    "def google_search(query):\n",
    "    try:\n",
    "        num_results = 5\n",
    "        search_results = search(query, num_results=num_results)\n",
    "        results = {f\"Result {i+1}\": result for i, result in enumerate(search_results)}\n",
    "        return jsonify(results)\n",
    "    except Exception as e:\n",
    "        return jsonify({\"error\": str(e)})\n",
    "\n",
    "if __name__ == \"__main__\":\n",
    "    app.run(port=80, host=\"0.0.0.0\")\n"
   ]
  },
  {
   "cell_type": "code",
   "execution_count": null,
   "id": "410ea4f9-c98d-4146-aa4b-f052f6ce8734",
   "metadata": {},
   "outputs": [
    {
     "name": "stdout",
     "output_type": "stream",
     "text": [
      " * Serving Flask app '__main__'\n",
      " * Debug mode: off\n"
     ]
    },
    {
     "name": "stderr",
     "output_type": "stream",
     "text": [
      "WARNING: This is a development server. Do not use it in a production deployment. Use a production WSGI server instead.\n",
      " * Running on all addresses (0.0.0.0)\n",
      " * Running on http://127.0.0.1:80\n",
      " * Running on http://192.168.128.1:80\n",
      "Press CTRL+C to quit\n"
     ]
    }
   ],
   "source": [
    "from googlesearch import search\n",
    "from flask import Flask, jsonify\n",
    "\n",
    "app = Flask(__name__)\n",
    "\n",
    "@app.route(\"/google_search\")\n",
    "def google_search():\n",
    "    try:\n",
    "        query = 'rohit sharma'\n",
    "        num_results = 5\n",
    "\n",
    "        search_results = search(query, num_results=num_results)\n",
    "        results = {f\"Result {i+1}\": result for i, result in enumerate(search_results)}\n",
    "        return jsonify(results)\n",
    "    except Exception as e:\n",
    "        return jsonify({\"error\": str(e)})\n",
    "\n",
    "if __name__ == \"__main__\":\n",
    "    app.run(port=80, host=\"0.0.0.0\")\n"
   ]
  },
  {
   "cell_type": "code",
   "execution_count": null,
   "id": "b83fcb40-3095-4099-9028-8f22fb32bb8e",
   "metadata": {},
   "outputs": [],
   "source": []
  }
 ],
 "metadata": {
  "kernelspec": {
   "display_name": "Python 3 (ipykernel)",
   "language": "python",
   "name": "python3"
  },
  "language_info": {
   "codemirror_mode": {
    "name": "ipython",
    "version": 3
   },
   "file_extension": ".py",
   "mimetype": "text/x-python",
   "name": "python",
   "nbconvert_exporter": "python",
   "pygments_lexer": "ipython3",
   "version": "3.12.4"
  }
 },
 "nbformat": 4,
 "nbformat_minor": 5
}
