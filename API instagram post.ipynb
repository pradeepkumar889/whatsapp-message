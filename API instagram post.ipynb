{
 "cells": [
  {
   "cell_type": "code",
   "execution_count": null,
   "id": "d0e36134-1daa-4de7-a4ba-8fefb3183405",
   "metadata": {},
   "outputs": [
    {
     "name": "stdout",
     "output_type": "stream",
     "text": [
      " * Serving Flask app '__main__'\n",
      " * Debug mode: off\n"
     ]
    },
    {
     "name": "stderr",
     "output_type": "stream",
     "text": [
      "WARNING: This is a development server. Do not use it in a production deployment. Use a production WSGI server instead.\n",
      " * Running on all addresses (0.0.0.0)\n",
      " * Running on http://127.0.0.1:80\n",
      " * Running on http://192.168.45.1:80\n",
      "Press CTRL+C to quit\n",
      "127.0.0.1 - - [15/Jul/2024 19:57:25] \"GET /post_photo HTTP/1.1\" 200 -\n",
      "127.0.0.1 - - [15/Jul/2024 19:57:25] \"GET /favicon.ico HTTP/1.1\" 404 -\n",
      "127.0.0.1 - - [15/Jul/2024 22:30:45] \"GET /text_massage HTTP/1.1\" 404 -\n",
      "127.0.0.1 - - [15/Jul/2024 22:31:57] \"GET /post_photo HTTP/1.1\" 200 -\n",
      "127.0.0.1 - - [15/Jul/2024 22:33:04] \"GET /text_massage HTTP/1.1\" 404 -\n",
      "127.0.0.1 - - [15/Jul/2024 22:33:18] \"GET /text_massage HTTP/1.1\" 404 -\n",
      "192.168.93.1 - - [15/Jul/2024 22:33:44] \"GET / HTTP/1.1\" 404 -\n",
      "192.168.93.1 - - [15/Jul/2024 22:33:44] \"GET /favicon.ico HTTP/1.1\" 404 -\n",
      "192.168.93.1 - - [15/Jul/2024 22:34:01] \"GET /text_massage HTTP/1.1\" 404 -\n",
      "192.168.93.1 - - [15/Jul/2024 22:34:08] \"GET /text_massage HTTP/1.1\" 404 -\n",
      "192.168.93.1 - - [15/Jul/2024 22:34:15] \"GET /text_massage HTTP/1.1\" 404 -\n"
     ]
    }
   ],
   "source": [
    "from instagrapi import Client\n",
    "from flask import Flask\n",
    "app = Flask(__name__)\n",
    "@app.route(\"/post_photo\")\n",
    "def instagram_post():\n",
    "    username = ''\n",
    "    password = ''\n",
    "    client = Client()\n",
    "    client.login(username, password)\n",
    "    photo_path = \"vimal.jpg\"\n",
    "    caption = 'pradeepjangid'\n",
    "    post= client.photo_upload(photo_path, caption)\n",
    "    return f\"photo post successfully:{post}\"\n",
    "app.run(port=80,host=\"0.0.0.0\")"
   ]
  },
  {
   "cell_type": "code",
   "execution_count": null,
   "id": "f8d88d90-8a0e-4b06-ba27-7207f1a7d298",
   "metadata": {},
   "outputs": [],
   "source": [
    "\n"
   ]
  }
 ],
 "metadata": {
  "kernelspec": {
   "display_name": "Python 3 (ipykernel)",
   "language": "python",
   "name": "python3"
  },
  "language_info": {
   "codemirror_mode": {
    "name": "ipython",
    "version": 3
   },
   "file_extension": ".py",
   "mimetype": "text/x-python",
   "name": "python",
   "nbconvert_exporter": "python",
   "pygments_lexer": "ipython3",
   "version": "3.12.4"
  }
 },
 "nbformat": 4,
 "nbformat_minor": 5
}
